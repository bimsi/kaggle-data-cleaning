{
 "cells": [
  {
   "cell_type": "markdown",
   "id": "c691d0e0",
   "metadata": {
    "papermill": {
     "duration": 0.008312,
     "end_time": "2023-12-20T06:08:47.249703",
     "exception": false,
     "start_time": "2023-12-20T06:08:47.241391",
     "status": "completed"
    },
    "tags": []
   },
   "source": [
    "**This notebook is an exercise in the [Data Cleaning](https://www.kaggle.com/learn/data-cleaning) course.  You can reference the tutorial at [this link](https://www.kaggle.com/alexisbcook/character-encodings).**\n",
    "\n",
    "---\n"
   ]
  },
  {
   "cell_type": "markdown",
   "id": "106c4382",
   "metadata": {
    "papermill": {
     "duration": 0.007358,
     "end_time": "2023-12-20T06:08:47.265230",
     "exception": false,
     "start_time": "2023-12-20T06:08:47.257872",
     "status": "completed"
    },
    "tags": []
   },
   "source": [
    "In this exercise, you'll apply what you learned in the **Character encodings** tutorial.\n",
    "\n",
    "# Setup\n",
    "\n",
    "The questions below will give you feedback on your work. Run the following cell to set up the feedback system."
   ]
  },
  {
   "cell_type": "code",
   "execution_count": 1,
   "id": "53b651e6",
   "metadata": {
    "execution": {
     "iopub.execute_input": "2023-12-20T06:08:47.282814Z",
     "iopub.status.busy": "2023-12-20T06:08:47.282319Z",
     "iopub.status.idle": "2023-12-20T06:08:47.906726Z",
     "shell.execute_reply": "2023-12-20T06:08:47.904820Z"
    },
    "papermill": {
     "duration": 0.63735,
     "end_time": "2023-12-20T06:08:47.910519",
     "exception": false,
     "start_time": "2023-12-20T06:08:47.273169",
     "status": "completed"
    },
    "tags": []
   },
   "outputs": [
    {
     "name": "stdout",
     "output_type": "stream",
     "text": [
      "Setup Complete\n"
     ]
    }
   ],
   "source": [
    "from learntools.core import binder\n",
    "binder.bind(globals())\n",
    "from learntools.data_cleaning.ex4 import *\n",
    "print(\"Setup Complete\")"
   ]
  },
  {
   "cell_type": "markdown",
   "id": "7f01ae40",
   "metadata": {
    "papermill": {
     "duration": 0.007843,
     "end_time": "2023-12-20T06:08:47.925815",
     "exception": false,
     "start_time": "2023-12-20T06:08:47.917972",
     "status": "completed"
    },
    "tags": []
   },
   "source": [
    "# Get our environment set up\n",
    "\n",
    "The first thing we'll need to do is load in the libraries we'll be using."
   ]
  },
  {
   "cell_type": "code",
   "execution_count": 2,
   "id": "1b7dc499",
   "metadata": {
    "execution": {
     "iopub.execute_input": "2023-12-20T06:08:47.943447Z",
     "iopub.status.busy": "2023-12-20T06:08:47.942655Z",
     "iopub.status.idle": "2023-12-20T06:08:47.948380Z",
     "shell.execute_reply": "2023-12-20T06:08:47.947313Z"
    },
    "papermill": {
     "duration": 0.018046,
     "end_time": "2023-12-20T06:08:47.951409",
     "exception": false,
     "start_time": "2023-12-20T06:08:47.933363",
     "status": "completed"
    },
    "tags": []
   },
   "outputs": [],
   "source": [
    "# modules we'll use\n",
    "import pandas as pd\n",
    "import numpy as np\n",
    "\n",
    "# helpful character encoding module\n",
    "import charset_normalizer\n",
    "\n",
    "# set seed for reproducibility\n",
    "np.random.seed(0)"
   ]
  },
  {
   "cell_type": "markdown",
   "id": "fcb28332",
   "metadata": {
    "papermill": {
     "duration": 0.007279,
     "end_time": "2023-12-20T06:08:47.968012",
     "exception": false,
     "start_time": "2023-12-20T06:08:47.960733",
     "status": "completed"
    },
    "tags": []
   },
   "source": [
    "# 1) What are encodings?\n",
    "\n",
    "You're working with a dataset composed of bytes.  Run the code cell below to print a sample entry."
   ]
  },
  {
   "cell_type": "code",
   "execution_count": 3,
   "id": "af89088a",
   "metadata": {
    "execution": {
     "iopub.execute_input": "2023-12-20T06:08:47.986343Z",
     "iopub.status.busy": "2023-12-20T06:08:47.985863Z",
     "iopub.status.idle": "2023-12-20T06:08:47.992157Z",
     "shell.execute_reply": "2023-12-20T06:08:47.990794Z"
    },
    "papermill": {
     "duration": 0.019023,
     "end_time": "2023-12-20T06:08:47.995084",
     "exception": false,
     "start_time": "2023-12-20T06:08:47.976061",
     "status": "completed"
    },
    "tags": []
   },
   "outputs": [
    {
     "name": "stdout",
     "output_type": "stream",
     "text": [
      "b'\\xa7A\\xa6n'\n",
      "data type: <class 'bytes'>\n"
     ]
    }
   ],
   "source": [
    "sample_entry = b'\\xa7A\\xa6n'\n",
    "print(sample_entry)\n",
    "print('data type:', type(sample_entry))"
   ]
  },
  {
   "cell_type": "markdown",
   "id": "e6907c94",
   "metadata": {
    "papermill": {
     "duration": 0.007524,
     "end_time": "2023-12-20T06:08:48.011726",
     "exception": false,
     "start_time": "2023-12-20T06:08:48.004202",
     "status": "completed"
    },
    "tags": []
   },
   "source": [
    "You notice that it doesn't use the standard UTF-8 encoding. \n",
    "\n",
    "Use the next code cell to create a variable `new_entry` that changes the encoding from `\"big5-tw\"` to `\"utf-8\"`.  `new_entry` should have the bytes datatype."
   ]
  },
  {
   "cell_type": "code",
   "execution_count": 4,
   "id": "62fdf7a8",
   "metadata": {
    "execution": {
     "iopub.execute_input": "2023-12-20T06:08:48.029627Z",
     "iopub.status.busy": "2023-12-20T06:08:48.028642Z",
     "iopub.status.idle": "2023-12-20T06:08:48.037319Z",
     "shell.execute_reply": "2023-12-20T06:08:48.036088Z"
    },
    "papermill": {
     "duration": 0.020831,
     "end_time": "2023-12-20T06:08:48.040278",
     "exception": false,
     "start_time": "2023-12-20T06:08:48.019447",
     "status": "completed"
    },
    "tags": []
   },
   "outputs": [
    {
     "data": {
      "text/plain": [
       "'你好'"
      ]
     },
     "execution_count": 4,
     "metadata": {},
     "output_type": "execute_result"
    }
   ],
   "source": [
    "before = sample_entry.decode('big5-tw')\n",
    "before"
   ]
  },
  {
   "cell_type": "code",
   "execution_count": 5,
   "id": "3a32b0bd",
   "metadata": {
    "execution": {
     "iopub.execute_input": "2023-12-20T06:08:48.058968Z",
     "iopub.status.busy": "2023-12-20T06:08:48.058050Z",
     "iopub.status.idle": "2023-12-20T06:08:48.069043Z",
     "shell.execute_reply": "2023-12-20T06:08:48.067647Z"
    },
    "papermill": {
     "duration": 0.024112,
     "end_time": "2023-12-20T06:08:48.071972",
     "exception": false,
     "start_time": "2023-12-20T06:08:48.047860",
     "status": "completed"
    },
    "tags": []
   },
   "outputs": [
    {
     "data": {
      "application/javascript": [
       "parent.postMessage({\"jupyterEvent\": \"custom.exercise_interaction\", \"data\": {\"outcomeType\": 1, \"valueTowardsCompletion\": 0.3333333333333333, \"interactionType\": 1, \"questionType\": 1, \"questionId\": \"1_EncodingsIntro\", \"learnToolsVersion\": \"0.3.4\", \"failureMessage\": \"\", \"exceptionClass\": \"\", \"trace\": \"\"}}, \"*\")"
      ],
      "text/plain": [
       "<IPython.core.display.Javascript object>"
      ]
     },
     "metadata": {},
     "output_type": "display_data"
    },
    {
     "data": {
      "text/markdown": [
       "<span style=\"color:#33cc33\">Correct</span>"
      ],
      "text/plain": [
       "Correct"
      ]
     },
     "metadata": {},
     "output_type": "display_data"
    }
   ],
   "source": [
    "new_entry = before.encode()\n",
    "\n",
    "# Check your answer\n",
    "q1.check()"
   ]
  },
  {
   "cell_type": "code",
   "execution_count": 6,
   "id": "1218d73e",
   "metadata": {
    "execution": {
     "iopub.execute_input": "2023-12-20T06:08:48.090453Z",
     "iopub.status.busy": "2023-12-20T06:08:48.089628Z",
     "iopub.status.idle": "2023-12-20T06:08:48.100370Z",
     "shell.execute_reply": "2023-12-20T06:08:48.099198Z"
    },
    "papermill": {
     "duration": 0.023738,
     "end_time": "2023-12-20T06:08:48.103804",
     "exception": false,
     "start_time": "2023-12-20T06:08:48.080066",
     "status": "completed"
    },
    "tags": []
   },
   "outputs": [
    {
     "data": {
      "application/javascript": [
       "parent.postMessage({\"jupyterEvent\": \"custom.exercise_interaction\", \"data\": {\"interactionType\": 3, \"questionType\": 1, \"questionId\": \"1_EncodingsIntro\", \"learnToolsVersion\": \"0.3.4\", \"valueTowardsCompletion\": 0.0, \"failureMessage\": \"\", \"exceptionClass\": \"\", \"trace\": \"\", \"outcomeType\": 4}}, \"*\")"
      ],
      "text/plain": [
       "<IPython.core.display.Javascript object>"
      ]
     },
     "metadata": {},
     "output_type": "display_data"
    },
    {
     "data": {
      "text/markdown": [
       "<span style=\"color:#33cc99\">Solution:</span> \n",
       "```python\n",
       "before = sample_entry.decode(\"big5-tw\")\n",
       "new_entry = before.encode()\n",
       "\n",
       "```"
      ],
      "text/plain": [
       "Solution: \n",
       "```python\n",
       "before = sample_entry.decode(\"big5-tw\")\n",
       "new_entry = before.encode()\n",
       "\n",
       "```"
      ]
     },
     "metadata": {},
     "output_type": "display_data"
    }
   ],
   "source": [
    "# Lines below will give you a hint or solution code\n",
    "#q1.hint()\n",
    "q1.solution()"
   ]
  },
  {
   "cell_type": "markdown",
   "id": "ad0ed04d",
   "metadata": {
    "papermill": {
     "duration": 0.008307,
     "end_time": "2023-12-20T06:08:48.120562",
     "exception": false,
     "start_time": "2023-12-20T06:08:48.112255",
     "status": "completed"
    },
    "tags": []
   },
   "source": [
    "# 2) Reading in files with encoding problems\n",
    "\n",
    "Use the code cell below to read in this file at path `\"../input/fatal-police-shootings-in-the-us/PoliceKillingsUS.csv\"`.  \n",
    "\n",
    "Figure out what the correct encoding should be and read in the file to a DataFrame `police_killings`."
   ]
  },
  {
   "cell_type": "code",
   "execution_count": 7,
   "id": "1d8dac43",
   "metadata": {
    "execution": {
     "iopub.execute_input": "2023-12-20T06:08:48.140365Z",
     "iopub.status.busy": "2023-12-20T06:08:48.139342Z",
     "iopub.status.idle": "2023-12-20T06:08:48.151213Z",
     "shell.execute_reply": "2023-12-20T06:08:48.149915Z"
    },
    "papermill": {
     "duration": 0.025307,
     "end_time": "2023-12-20T06:08:48.154284",
     "exception": false,
     "start_time": "2023-12-20T06:08:48.128977",
     "status": "completed"
    },
    "tags": []
   },
   "outputs": [
    {
     "data": {
      "application/javascript": [
       "parent.postMessage({\"jupyterEvent\": \"custom.exercise_interaction\", \"data\": {\"outcomeType\": 4, \"interactionType\": 1, \"questionType\": 1, \"questionId\": \"2_ReadIn\", \"learnToolsVersion\": \"0.3.4\", \"valueTowardsCompletion\": 0.0, \"failureMessage\": \"\", \"exceptionClass\": \"\", \"trace\": \"\"}}, \"*\")"
      ],
      "text/plain": [
       "<IPython.core.display.Javascript object>"
      ]
     },
     "metadata": {},
     "output_type": "display_data"
    },
    {
     "data": {
      "text/markdown": [
       "<span style=\"color:#ccaa33\">Check:</span> When you've updated the starter code, `check()` will tell you whether your code is correct. You need to update the code that creates variable `police_killings`"
      ],
      "text/plain": [
       "Check: When you've updated the starter code, `check()` will tell you whether your code is correct. You need to update the code that creates variable `police_killings`"
      ]
     },
     "metadata": {},
     "output_type": "display_data"
    }
   ],
   "source": [
    "# TODO: Load in the DataFrame correctly.\n",
    "police_killings = ____\n",
    "\n",
    "# Check your answer\n",
    "q2.check()"
   ]
  },
  {
   "cell_type": "markdown",
   "id": "01319229",
   "metadata": {
    "papermill": {
     "duration": 0.008326,
     "end_time": "2023-12-20T06:08:48.171210",
     "exception": false,
     "start_time": "2023-12-20T06:08:48.162884",
     "status": "completed"
    },
    "tags": []
   },
   "source": [
    "Feel free to use any additional code cells for supplemental work.  To get credit for finishing this question, you'll need to run `q2.check()` and get a result of **Correct**."
   ]
  },
  {
   "cell_type": "code",
   "execution_count": 8,
   "id": "d4f393c5",
   "metadata": {
    "execution": {
     "iopub.execute_input": "2023-12-20T06:08:48.192737Z",
     "iopub.status.busy": "2023-12-20T06:08:48.192296Z",
     "iopub.status.idle": "2023-12-20T06:08:48.197574Z",
     "shell.execute_reply": "2023-12-20T06:08:48.196380Z"
    },
    "papermill": {
     "duration": 0.019538,
     "end_time": "2023-12-20T06:08:48.200615",
     "exception": false,
     "start_time": "2023-12-20T06:08:48.181077",
     "status": "completed"
    },
    "tags": []
   },
   "outputs": [],
   "source": [
    "# (Optional) Use this code cell for any additional work."
   ]
  },
  {
   "cell_type": "code",
   "execution_count": 9,
   "id": "d55c847e",
   "metadata": {
    "execution": {
     "iopub.execute_input": "2023-12-20T06:08:48.220668Z",
     "iopub.status.busy": "2023-12-20T06:08:48.220194Z",
     "iopub.status.idle": "2023-12-20T06:08:48.224892Z",
     "shell.execute_reply": "2023-12-20T06:08:48.223843Z"
    },
    "papermill": {
     "duration": 0.017988,
     "end_time": "2023-12-20T06:08:48.227376",
     "exception": false,
     "start_time": "2023-12-20T06:08:48.209388",
     "status": "completed"
    },
    "tags": []
   },
   "outputs": [],
   "source": [
    "# Lines below will give you a hint or solution code\n",
    "#q2.hint()\n",
    "#q2.solution()"
   ]
  },
  {
   "cell_type": "markdown",
   "id": "a956a651",
   "metadata": {
    "papermill": {
     "duration": 0.00828,
     "end_time": "2023-12-20T06:08:48.244513",
     "exception": false,
     "start_time": "2023-12-20T06:08:48.236233",
     "status": "completed"
    },
    "tags": []
   },
   "source": [
    "# 3) Saving your files with UTF-8 encoding\n",
    "\n",
    "Save a version of the police killings dataset to CSV with UTF-8 encoding.  Your answer will be marked correct after saving this file.  \n",
    "\n",
    "Note: When using the `to_csv()` method, supply only the name of the file (e.g., `\"my_file.csv\"`).  This saves the file at the filepath `\"/kaggle/working/my_file.csv\"`."
   ]
  },
  {
   "cell_type": "code",
   "execution_count": 10,
   "id": "fa43fe34",
   "metadata": {
    "execution": {
     "iopub.execute_input": "2023-12-20T06:08:48.265479Z",
     "iopub.status.busy": "2023-12-20T06:08:48.265023Z",
     "iopub.status.idle": "2023-12-20T06:08:48.276636Z",
     "shell.execute_reply": "2023-12-20T06:08:48.274692Z"
    },
    "papermill": {
     "duration": 0.026565,
     "end_time": "2023-12-20T06:08:48.279970",
     "exception": false,
     "start_time": "2023-12-20T06:08:48.253405",
     "status": "completed"
    },
    "tags": []
   },
   "outputs": [
    {
     "data": {
      "application/javascript": [
       "parent.postMessage({\"jupyterEvent\": \"custom.exercise_interaction\", \"data\": {\"outcomeType\": 2, \"failureMessage\": \"Please save a CSV file and run this code cell again to get credit!\", \"interactionType\": 1, \"questionType\": 2, \"questionId\": \"3_SaveCSV\", \"learnToolsVersion\": \"0.3.4\", \"valueTowardsCompletion\": 0.0, \"exceptionClass\": \"\", \"trace\": \"\"}}, \"*\")"
      ],
      "text/plain": [
       "<IPython.core.display.Javascript object>"
      ]
     },
     "metadata": {},
     "output_type": "display_data"
    },
    {
     "data": {
      "text/markdown": [
       "<span style=\"color:#cc3333\">Incorrect:</span> Please save a CSV file and run this code cell again to get credit!"
      ],
      "text/plain": [
       "Incorrect: Please save a CSV file and run this code cell again to get credit!"
      ]
     },
     "metadata": {},
     "output_type": "display_data"
    }
   ],
   "source": [
    "# TODO: Save the police killings dataset to CSV\n",
    "____\n",
    "\n",
    "# Check your answer\n",
    "q3.check()"
   ]
  },
  {
   "cell_type": "code",
   "execution_count": 11,
   "id": "a05653d6",
   "metadata": {
    "execution": {
     "iopub.execute_input": "2023-12-20T06:08:48.301838Z",
     "iopub.status.busy": "2023-12-20T06:08:48.301330Z",
     "iopub.status.idle": "2023-12-20T06:08:48.306416Z",
     "shell.execute_reply": "2023-12-20T06:08:48.305086Z"
    },
    "papermill": {
     "duration": 0.019081,
     "end_time": "2023-12-20T06:08:48.309418",
     "exception": false,
     "start_time": "2023-12-20T06:08:48.290337",
     "status": "completed"
    },
    "tags": []
   },
   "outputs": [],
   "source": [
    "# Lines below will give you a hint or solution code\n",
    "#q3.hint()\n",
    "#q3.solution()"
   ]
  },
  {
   "cell_type": "markdown",
   "id": "c0b2c7f8",
   "metadata": {
    "papermill": {
     "duration": 0.008997,
     "end_time": "2023-12-20T06:08:48.327454",
     "exception": false,
     "start_time": "2023-12-20T06:08:48.318457",
     "status": "completed"
    },
    "tags": []
   },
   "source": [
    "# (Optional) More practice\n",
    "\n",
    "Check out [this dataset of files in different character encodings](https://www.kaggle.com/rtatman/character-encoding-examples). Can you read in all the files with their original encodings and them save them out as UTF-8 files?\n",
    "\n",
    "If you have a file that's in UTF-8 but has just a couple of weird-looking characters in it, you can try out the [ftfy module](https://ftfy.readthedocs.io/en/latest/#) and see if it helps. \n",
    "\n",
    "# Keep going\n",
    "\n",
    "In the final lesson, learn how to [**clean up inconsistent text entries**](https://www.kaggle.com/alexisbcook/inconsistent-data-entry) in your dataset."
   ]
  },
  {
   "cell_type": "markdown",
   "id": "13c1c769",
   "metadata": {
    "papermill": {
     "duration": 0.009471,
     "end_time": "2023-12-20T06:08:48.346067",
     "exception": false,
     "start_time": "2023-12-20T06:08:48.336596",
     "status": "completed"
    },
    "tags": []
   },
   "source": [
    "---\n",
    "\n",
    "\n",
    "\n",
    "\n",
    "*Have questions or comments? Visit the [course discussion forum](https://www.kaggle.com/learn/data-cleaning/discussion) to chat with other learners.*"
   ]
  }
 ],
 "metadata": {
  "kaggle": {
   "accelerator": "none",
   "dataSources": [
    {
     "datasetId": 2647,
     "sourceId": 4395,
     "sourceType": "datasetVersion"
    }
   ],
   "isGpuEnabled": false,
   "isInternetEnabled": false,
   "language": "python",
   "sourceType": "notebook"
  },
  "kernelspec": {
   "display_name": "Python 3",
   "language": "python",
   "name": "python3"
  },
  "language_info": {
   "codemirror_mode": {
    "name": "ipython",
    "version": 3
   },
   "file_extension": ".py",
   "mimetype": "text/x-python",
   "name": "python",
   "nbconvert_exporter": "python",
   "pygments_lexer": "ipython3",
   "version": "3.10.12"
  },
  "papermill": {
   "default_parameters": {},
   "duration": 5.85581,
   "end_time": "2023-12-20T06:08:49.080689",
   "environment_variables": {},
   "exception": null,
   "input_path": "__notebook__.ipynb",
   "output_path": "__notebook__.ipynb",
   "parameters": {},
   "start_time": "2023-12-20T06:08:43.224879",
   "version": "2.4.0"
  }
 },
 "nbformat": 4,
 "nbformat_minor": 5
}
