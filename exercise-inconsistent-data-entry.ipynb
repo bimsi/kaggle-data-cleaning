{
 "cells": [
  {
   "cell_type": "markdown",
   "id": "501d0a29",
   "metadata": {
    "papermill": {
     "duration": 0.007372,
     "end_time": "2023-12-20T06:21:56.661711",
     "exception": false,
     "start_time": "2023-12-20T06:21:56.654339",
     "status": "completed"
    },
    "tags": []
   },
   "source": [
    "**This notebook is an exercise in the [Data Cleaning](https://www.kaggle.com/learn/data-cleaning) course.  You can reference the tutorial at [this link](https://www.kaggle.com/alexisbcook/inconsistent-data-entry).**\n",
    "\n",
    "---\n"
   ]
  },
  {
   "cell_type": "markdown",
   "id": "e5b87623",
   "metadata": {
    "papermill": {
     "duration": 0.006893,
     "end_time": "2023-12-20T06:21:56.675541",
     "exception": false,
     "start_time": "2023-12-20T06:21:56.668648",
     "status": "completed"
    },
    "tags": []
   },
   "source": [
    "In this exercise, you'll apply what you learned in the **Inconsistent data entry** tutorial.\n",
    "\n",
    "# Setup\n",
    "\n",
    "The questions below will give you feedback on your work. Run the following cell to set up the feedback system."
   ]
  },
  {
   "cell_type": "code",
   "execution_count": 1,
   "id": "e8e5bfe1",
   "metadata": {
    "execution": {
     "iopub.execute_input": "2023-12-20T06:21:56.691437Z",
     "iopub.status.busy": "2023-12-20T06:21:56.691040Z",
     "iopub.status.idle": "2023-12-20T06:21:57.372159Z",
     "shell.execute_reply": "2023-12-20T06:21:57.371143Z"
    },
    "papermill": {
     "duration": 0.692202,
     "end_time": "2023-12-20T06:21:57.374703",
     "exception": false,
     "start_time": "2023-12-20T06:21:56.682501",
     "status": "completed"
    },
    "tags": []
   },
   "outputs": [
    {
     "name": "stdout",
     "output_type": "stream",
     "text": [
      "Setup Complete\n"
     ]
    }
   ],
   "source": [
    "from learntools.core import binder\n",
    "binder.bind(globals())\n",
    "from learntools.data_cleaning.ex5 import *\n",
    "print(\"Setup Complete\")"
   ]
  },
  {
   "cell_type": "markdown",
   "id": "8e3100fd",
   "metadata": {
    "papermill": {
     "duration": 0.006776,
     "end_time": "2023-12-20T06:21:57.388589",
     "exception": false,
     "start_time": "2023-12-20T06:21:57.381813",
     "status": "completed"
    },
    "tags": []
   },
   "source": [
    "# Get our environment set up\n",
    "\n",
    "The first thing we'll need to do is load in the libraries and dataset we'll be using.  We use the same dataset from the tutorial."
   ]
  },
  {
   "cell_type": "code",
   "execution_count": 2,
   "id": "ecc9bdf4",
   "metadata": {
    "execution": {
     "iopub.execute_input": "2023-12-20T06:21:57.405759Z",
     "iopub.status.busy": "2023-12-20T06:21:57.405080Z",
     "iopub.status.idle": "2023-12-20T06:21:57.423194Z",
     "shell.execute_reply": "2023-12-20T06:21:57.422157Z"
    },
    "papermill": {
     "duration": 0.029166,
     "end_time": "2023-12-20T06:21:57.425784",
     "exception": false,
     "start_time": "2023-12-20T06:21:57.396618",
     "status": "completed"
    },
    "tags": []
   },
   "outputs": [],
   "source": [
    "# modules we'll use\n",
    "import pandas as pd\n",
    "import numpy as np\n",
    "\n",
    "# helpful modules\n",
    "import fuzzywuzzy\n",
    "from fuzzywuzzy import process\n",
    "import charset_normalizer\n",
    "\n",
    "# read in all our data\n",
    "professors = pd.read_csv(\"../input/pakistan-intellectual-capital/pakistan_intellectual_capital.csv\")\n",
    "\n",
    "# set seed for reproducibility\n",
    "np.random.seed(0)"
   ]
  },
  {
   "cell_type": "markdown",
   "id": "3706d8ba",
   "metadata": {
    "papermill": {
     "duration": 0.006779,
     "end_time": "2023-12-20T06:21:57.439611",
     "exception": false,
     "start_time": "2023-12-20T06:21:57.432832",
     "status": "completed"
    },
    "tags": []
   },
   "source": [
    "Next, we'll redo all of the work that we did in the tutorial."
   ]
  },
  {
   "cell_type": "code",
   "execution_count": 3,
   "id": "01ffa6af",
   "metadata": {
    "execution": {
     "iopub.execute_input": "2023-12-20T06:21:57.456363Z",
     "iopub.status.busy": "2023-12-20T06:21:57.455185Z",
     "iopub.status.idle": "2023-12-20T06:21:57.472368Z",
     "shell.execute_reply": "2023-12-20T06:21:57.470935Z"
    },
    "papermill": {
     "duration": 0.028111,
     "end_time": "2023-12-20T06:21:57.474810",
     "exception": false,
     "start_time": "2023-12-20T06:21:57.446699",
     "status": "completed"
    },
    "tags": []
   },
   "outputs": [
    {
     "name": "stdout",
     "output_type": "stream",
     "text": [
      "All done!\n"
     ]
    }
   ],
   "source": [
    "# convert to lower case\n",
    "professors['Country'] = professors['Country'].str.lower()\n",
    "# remove trailing white spaces\n",
    "professors['Country'] = professors['Country'].str.strip()\n",
    "\n",
    "# get the top 10 closest matches to \"south korea\"\n",
    "countries = professors['Country'].unique()\n",
    "matches = fuzzywuzzy.process.extract(\"south korea\", countries, limit=10, scorer=fuzzywuzzy.fuzz.token_sort_ratio)\n",
    "\n",
    "def replace_matches_in_column(df, column, string_to_match, min_ratio = 47):\n",
    "    # get a list of unique strings\n",
    "    strings = df[column].unique()\n",
    "    \n",
    "    # get the top 10 closest matches to our input string\n",
    "    matches = fuzzywuzzy.process.extract(string_to_match, strings, \n",
    "                                         limit=10, scorer=fuzzywuzzy.fuzz.token_sort_ratio)\n",
    "\n",
    "    # only get matches with a ratio > 90\n",
    "    close_matches = [matches[0] for matches in matches if matches[1] >= min_ratio]\n",
    "\n",
    "    # get the rows of all the close matches in our dataframe\n",
    "    rows_with_matches = df[column].isin(close_matches)\n",
    "\n",
    "    # replace all rows with close matches with the input matches \n",
    "    df.loc[rows_with_matches, column] = string_to_match\n",
    "    \n",
    "    # let us know the function's done\n",
    "    print(\"All done!\")\n",
    "    \n",
    "replace_matches_in_column(df=professors, column='Country', string_to_match=\"south korea\")\n",
    "countries = professors['Country'].unique()"
   ]
  },
  {
   "cell_type": "markdown",
   "id": "c4824d31",
   "metadata": {
    "papermill": {
     "duration": 0.006808,
     "end_time": "2023-12-20T06:21:57.489082",
     "exception": false,
     "start_time": "2023-12-20T06:21:57.482274",
     "status": "completed"
    },
    "tags": []
   },
   "source": [
    "# 1) Examine another column\n",
    "\n",
    "Write code below to take a look at all the unique values in the \"Graduated from\" column."
   ]
  },
  {
   "cell_type": "code",
   "execution_count": 4,
   "id": "deb93e46",
   "metadata": {
    "execution": {
     "iopub.execute_input": "2023-12-20T06:21:57.505495Z",
     "iopub.status.busy": "2023-12-20T06:21:57.504357Z",
     "iopub.status.idle": "2023-12-20T06:21:57.508728Z",
     "shell.execute_reply": "2023-12-20T06:21:57.507980Z"
    },
    "papermill": {
     "duration": 0.014927,
     "end_time": "2023-12-20T06:21:57.510962",
     "exception": false,
     "start_time": "2023-12-20T06:21:57.496035",
     "status": "completed"
    },
    "tags": []
   },
   "outputs": [],
   "source": [
    "# TODO: Your code here"
   ]
  },
  {
   "cell_type": "markdown",
   "id": "6bffde23",
   "metadata": {
    "papermill": {
     "duration": 0.007697,
     "end_time": "2023-12-20T06:21:57.525740",
     "exception": false,
     "start_time": "2023-12-20T06:21:57.518043",
     "status": "completed"
    },
    "tags": []
   },
   "source": [
    "Do you notice any inconsistencies in the data?  Can any of the inconsistencies in the data be fixed by removing white spaces at the beginning and end of cells?\n",
    "\n",
    "Once you have answered these questions, run the code cell below to get credit for your work."
   ]
  },
  {
   "cell_type": "code",
   "execution_count": 5,
   "id": "bb3355a0",
   "metadata": {
    "execution": {
     "iopub.execute_input": "2023-12-20T06:21:57.542132Z",
     "iopub.status.busy": "2023-12-20T06:21:57.541443Z",
     "iopub.status.idle": "2023-12-20T06:21:57.549686Z",
     "shell.execute_reply": "2023-12-20T06:21:57.548958Z"
    },
    "papermill": {
     "duration": 0.018997,
     "end_time": "2023-12-20T06:21:57.551859",
     "exception": false,
     "start_time": "2023-12-20T06:21:57.532862",
     "status": "completed"
    },
    "tags": []
   },
   "outputs": [
    {
     "data": {
      "application/javascript": [
       "parent.postMessage({\"jupyterEvent\": \"custom.exercise_interaction\", \"data\": {\"outcomeType\": 1, \"valueTowardsCompletion\": 0.3333333333333333, \"interactionType\": 1, \"questionType\": 4, \"questionId\": \"1_ExamineProvince\", \"learnToolsVersion\": \"0.3.4\", \"failureMessage\": \"\", \"exceptionClass\": \"\", \"trace\": \"\"}}, \"*\")"
      ],
      "text/plain": [
       "<IPython.core.display.Javascript object>"
      ]
     },
     "metadata": {},
     "output_type": "display_data"
    },
    {
     "data": {
      "text/markdown": [
       "<span style=\"color:#33cc33\">Correct:</span> \n",
       "\n",
       "There are inconsistencies that can be fixed by removing white spaces at the beginning and end of cells.  For instance, \"University of Central Florida\" and \" University of Central Florida\" both appear in the column."
      ],
      "text/plain": [
       "Correct: \n",
       "\n",
       "There are inconsistencies that can be fixed by removing white spaces at the beginning and end of cells.  For instance, \"University of Central Florida\" and \" University of Central Florida\" both appear in the column."
      ]
     },
     "metadata": {},
     "output_type": "display_data"
    }
   ],
   "source": [
    "# Check your answer (Run this code cell to receive credit!)\n",
    "q1.check()"
   ]
  },
  {
   "cell_type": "code",
   "execution_count": 6,
   "id": "7623b2c3",
   "metadata": {
    "execution": {
     "iopub.execute_input": "2023-12-20T06:21:57.569154Z",
     "iopub.status.busy": "2023-12-20T06:21:57.568409Z",
     "iopub.status.idle": "2023-12-20T06:21:57.572413Z",
     "shell.execute_reply": "2023-12-20T06:21:57.571513Z"
    },
    "papermill": {
     "duration": 0.015583,
     "end_time": "2023-12-20T06:21:57.574988",
     "exception": false,
     "start_time": "2023-12-20T06:21:57.559405",
     "status": "completed"
    },
    "tags": []
   },
   "outputs": [],
   "source": [
    "# Line below will give you a hint\n",
    "#q1.hint()"
   ]
  },
  {
   "cell_type": "markdown",
   "id": "57a80e1e",
   "metadata": {
    "papermill": {
     "duration": 0.007457,
     "end_time": "2023-12-20T06:21:57.590658",
     "exception": false,
     "start_time": "2023-12-20T06:21:57.583201",
     "status": "completed"
    },
    "tags": []
   },
   "source": [
    "# 2) Do some text pre-processing\n",
    "\n",
    "Convert every entry in the \"Graduated from\" column in the `professors` DataFrame to remove white spaces at the beginning and end of cells."
   ]
  },
  {
   "cell_type": "code",
   "execution_count": 7,
   "id": "145319a4",
   "metadata": {
    "execution": {
     "iopub.execute_input": "2023-12-20T06:21:57.607952Z",
     "iopub.status.busy": "2023-12-20T06:21:57.607305Z",
     "iopub.status.idle": "2023-12-20T06:21:57.619060Z",
     "shell.execute_reply": "2023-12-20T06:21:57.617742Z"
    },
    "papermill": {
     "duration": 0.02351,
     "end_time": "2023-12-20T06:21:57.621598",
     "exception": false,
     "start_time": "2023-12-20T06:21:57.598088",
     "status": "completed"
    },
    "tags": []
   },
   "outputs": [
    {
     "data": {
      "application/javascript": [
       "parent.postMessage({\"jupyterEvent\": \"custom.exercise_interaction\", \"data\": {\"outcomeType\": 2, \"failureMessage\": \"Incorrect value for `professors`\", \"interactionType\": 1, \"questionType\": 1, \"questionId\": \"2_TextProcessing\", \"learnToolsVersion\": \"0.3.4\", \"valueTowardsCompletion\": 0.0, \"exceptionClass\": \"\", \"trace\": \"\"}}, \"*\")"
      ],
      "text/plain": [
       "<IPython.core.display.Javascript object>"
      ]
     },
     "metadata": {},
     "output_type": "display_data"
    },
    {
     "data": {
      "text/markdown": [
       "<span style=\"color:#cc3333\">Incorrect:</span> Incorrect value for `professors`"
      ],
      "text/plain": [
       "Incorrect: Incorrect value for `professors`"
      ]
     },
     "metadata": {},
     "output_type": "display_data"
    }
   ],
   "source": [
    "# TODO: Your code here\n",
    "____\n",
    "\n",
    "# Check your answer\n",
    "q2.check()"
   ]
  },
  {
   "cell_type": "code",
   "execution_count": 8,
   "id": "6f273064",
   "metadata": {
    "execution": {
     "iopub.execute_input": "2023-12-20T06:21:57.638960Z",
     "iopub.status.busy": "2023-12-20T06:21:57.638524Z",
     "iopub.status.idle": "2023-12-20T06:21:57.643601Z",
     "shell.execute_reply": "2023-12-20T06:21:57.642346Z"
    },
    "papermill": {
     "duration": 0.016439,
     "end_time": "2023-12-20T06:21:57.645870",
     "exception": false,
     "start_time": "2023-12-20T06:21:57.629431",
     "status": "completed"
    },
    "tags": []
   },
   "outputs": [],
   "source": [
    "# Lines below will give you a hint or solution code\n",
    "#q2.hint()\n",
    "#q2.solution()"
   ]
  },
  {
   "cell_type": "markdown",
   "id": "31b87de6",
   "metadata": {
    "papermill": {
     "duration": 0.00763,
     "end_time": "2023-12-20T06:21:57.661807",
     "exception": false,
     "start_time": "2023-12-20T06:21:57.654177",
     "status": "completed"
    },
    "tags": []
   },
   "source": [
    "# 3) Continue working with countries\n",
    "\n",
    "In the tutorial, we focused on cleaning up inconsistencies in the \"Country\" column.  Run the code cell below to view the list of unique values that we ended with."
   ]
  },
  {
   "cell_type": "code",
   "execution_count": 9,
   "id": "04484cdc",
   "metadata": {
    "execution": {
     "iopub.execute_input": "2023-12-20T06:21:57.680236Z",
     "iopub.status.busy": "2023-12-20T06:21:57.679572Z",
     "iopub.status.idle": "2023-12-20T06:21:57.686744Z",
     "shell.execute_reply": "2023-12-20T06:21:57.685657Z"
    },
    "papermill": {
     "duration": 0.019164,
     "end_time": "2023-12-20T06:21:57.689056",
     "exception": false,
     "start_time": "2023-12-20T06:21:57.669892",
     "status": "completed"
    },
    "tags": []
   },
   "outputs": [
    {
     "data": {
      "text/plain": [
       "array(['australia', 'austria', 'canada', 'china', 'finland', 'france',\n",
       "       'germany', 'greece', 'hongkong', 'ireland', 'italy', 'japan',\n",
       "       'macau', 'malaysia', 'mauritius', 'netherland', 'new zealand',\n",
       "       'norway', 'pakistan', 'portugal', 'russian federation',\n",
       "       'saudi arabia', 'scotland', 'singapore', 'south korea', 'spain',\n",
       "       'sweden', 'thailand', 'turkey', 'uk', 'urbana', 'usa', 'usofa'],\n",
       "      dtype=object)"
      ]
     },
     "execution_count": 9,
     "metadata": {},
     "output_type": "execute_result"
    }
   ],
   "source": [
    "# get all the unique values in the 'City' column\n",
    "countries = professors['Country'].unique()\n",
    "\n",
    "# sort them alphabetically and then take a closer look\n",
    "countries.sort()\n",
    "countries"
   ]
  },
  {
   "cell_type": "markdown",
   "id": "7d31c525",
   "metadata": {
    "papermill": {
     "duration": 0.00777,
     "end_time": "2023-12-20T06:21:57.704973",
     "exception": false,
     "start_time": "2023-12-20T06:21:57.697203",
     "status": "completed"
    },
    "tags": []
   },
   "source": [
    "Take another look at the \"Country\" column and see if there's any more data cleaning we need to do.\n",
    "\n",
    "It looks like 'usa' and 'usofa' should be the same country.  Correct the \"Country\" column in the dataframe to replace 'usofa' with 'usa'.\n",
    "\n",
    "**Use the most recent version of the DataFrame (with the whitespaces at the beginning and end of cells removed) from question 2.**"
   ]
  },
  {
   "cell_type": "code",
   "execution_count": 10,
   "id": "d909af77",
   "metadata": {
    "execution": {
     "iopub.execute_input": "2023-12-20T06:21:57.723348Z",
     "iopub.status.busy": "2023-12-20T06:21:57.722431Z",
     "iopub.status.idle": "2023-12-20T06:21:57.733274Z",
     "shell.execute_reply": "2023-12-20T06:21:57.732148Z"
    },
    "papermill": {
     "duration": 0.022873,
     "end_time": "2023-12-20T06:21:57.735770",
     "exception": false,
     "start_time": "2023-12-20T06:21:57.712897",
     "status": "completed"
    },
    "tags": []
   },
   "outputs": [
    {
     "data": {
      "application/javascript": [
       "parent.postMessage({\"jupyterEvent\": \"custom.exercise_interaction\", \"data\": {\"outcomeType\": 2, \"failureMessage\": \"Incorrect value for `professors`\", \"interactionType\": 1, \"questionType\": 1, \"questionId\": \"3_WorkingWithCities\", \"learnToolsVersion\": \"0.3.4\", \"valueTowardsCompletion\": 0.0, \"exceptionClass\": \"\", \"trace\": \"\"}}, \"*\")"
      ],
      "text/plain": [
       "<IPython.core.display.Javascript object>"
      ]
     },
     "metadata": {},
     "output_type": "display_data"
    },
    {
     "data": {
      "text/markdown": [
       "<span style=\"color:#cc3333\">Incorrect:</span> Incorrect value for `professors`"
      ],
      "text/plain": [
       "Incorrect: Incorrect value for `professors`"
      ]
     },
     "metadata": {},
     "output_type": "display_data"
    }
   ],
   "source": [
    "# TODO: Your code here!\n",
    "____\n",
    "\n",
    "# Check your answer\n",
    "q3.check()"
   ]
  },
  {
   "cell_type": "code",
   "execution_count": 11,
   "id": "f005bb6d",
   "metadata": {
    "execution": {
     "iopub.execute_input": "2023-12-20T06:21:57.755327Z",
     "iopub.status.busy": "2023-12-20T06:21:57.754941Z",
     "iopub.status.idle": "2023-12-20T06:21:57.760045Z",
     "shell.execute_reply": "2023-12-20T06:21:57.758741Z"
    },
    "papermill": {
     "duration": 0.01824,
     "end_time": "2023-12-20T06:21:57.762322",
     "exception": false,
     "start_time": "2023-12-20T06:21:57.744082",
     "status": "completed"
    },
    "tags": []
   },
   "outputs": [],
   "source": [
    "# Lines below will give you a hint or solution code\n",
    "#q3.hint()\n",
    "#q3.solution()"
   ]
  },
  {
   "cell_type": "markdown",
   "id": "98e07f0e",
   "metadata": {
    "papermill": {
     "duration": 0.007912,
     "end_time": "2023-12-20T06:21:57.778459",
     "exception": false,
     "start_time": "2023-12-20T06:21:57.770547",
     "status": "completed"
    },
    "tags": []
   },
   "source": [
    "# Congratulations!\n",
    "\n",
    "Congratulations for completing the **Data Cleaning** course on Kaggle Learn!\n",
    "\n",
    "To practice your new skills, you're encouraged to download and investigate some of [Kaggle's Datasets](https://www.kaggle.com/datasets)."
   ]
  },
  {
   "cell_type": "markdown",
   "id": "54036fd6",
   "metadata": {
    "papermill": {
     "duration": 0.007805,
     "end_time": "2023-12-20T06:21:57.794576",
     "exception": false,
     "start_time": "2023-12-20T06:21:57.786771",
     "status": "completed"
    },
    "tags": []
   },
   "source": [
    "---\n",
    "\n",
    "\n",
    "\n",
    "\n",
    "*Have questions or comments? Visit the [course discussion forum](https://www.kaggle.com/learn/data-cleaning/discussion) to chat with other learners.*"
   ]
  }
 ],
 "metadata": {
  "kaggle": {
   "accelerator": "none",
   "dataSources": [
    {
     "datasetId": 819513,
     "sourceId": 1402182,
     "sourceType": "datasetVersion"
    }
   ],
   "isGpuEnabled": false,
   "isInternetEnabled": false,
   "language": "python",
   "sourceType": "notebook"
  },
  "kernelspec": {
   "display_name": "Python 3",
   "language": "python",
   "name": "python3"
  },
  "language_info": {
   "codemirror_mode": {
    "name": "ipython",
    "version": 3
   },
   "file_extension": ".py",
   "mimetype": "text/x-python",
   "name": "python",
   "nbconvert_exporter": "python",
   "pygments_lexer": "ipython3",
   "version": "3.10.12"
  },
  "papermill": {
   "default_parameters": {},
   "duration": 5.290986,
   "end_time": "2023-12-20T06:21:58.324621",
   "environment_variables": {},
   "exception": null,
   "input_path": "__notebook__.ipynb",
   "output_path": "__notebook__.ipynb",
   "parameters": {},
   "start_time": "2023-12-20T06:21:53.033635",
   "version": "2.4.0"
  }
 },
 "nbformat": 4,
 "nbformat_minor": 5
}
