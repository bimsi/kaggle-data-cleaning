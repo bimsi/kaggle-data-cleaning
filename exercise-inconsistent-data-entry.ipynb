{
 "cells": [
  {
   "cell_type": "markdown",
   "id": "81f14bb8",
   "metadata": {
    "papermill": {
     "duration": 0.004708,
     "end_time": "2023-12-20T06:31:21.439342",
     "exception": false,
     "start_time": "2023-12-20T06:31:21.434634",
     "status": "completed"
    },
    "tags": []
   },
   "source": [
    "**This notebook is an exercise in the [Data Cleaning](https://www.kaggle.com/learn/data-cleaning) course.  You can reference the tutorial at [this link](https://www.kaggle.com/alexisbcook/inconsistent-data-entry).**\n",
    "\n",
    "---\n"
   ]
  },
  {
   "cell_type": "markdown",
   "id": "49052dca",
   "metadata": {
    "papermill": {
     "duration": 0.003836,
     "end_time": "2023-12-20T06:31:21.447951",
     "exception": false,
     "start_time": "2023-12-20T06:31:21.444115",
     "status": "completed"
    },
    "tags": []
   },
   "source": [
    "In this exercise, you'll apply what you learned in the **Inconsistent data entry** tutorial.\n",
    "\n",
    "# Setup\n",
    "\n",
    "The questions below will give you feedback on your work. Run the following cell to set up the feedback system."
   ]
  },
  {
   "cell_type": "code",
   "execution_count": 1,
   "id": "94c4f08c",
   "metadata": {
    "execution": {
     "iopub.execute_input": "2023-12-20T06:31:21.457774Z",
     "iopub.status.busy": "2023-12-20T06:31:21.457418Z",
     "iopub.status.idle": "2023-12-20T06:31:21.964932Z",
     "shell.execute_reply": "2023-12-20T06:31:21.963447Z"
    },
    "papermill": {
     "duration": 0.515029,
     "end_time": "2023-12-20T06:31:21.966983",
     "exception": false,
     "start_time": "2023-12-20T06:31:21.451954",
     "status": "completed"
    },
    "tags": []
   },
   "outputs": [
    {
     "name": "stdout",
     "output_type": "stream",
     "text": [
      "Setup Complete\n"
     ]
    }
   ],
   "source": [
    "from learntools.core import binder\n",
    "binder.bind(globals())\n",
    "from learntools.data_cleaning.ex5 import *\n",
    "print(\"Setup Complete\")"
   ]
  },
  {
   "cell_type": "markdown",
   "id": "28746e1b",
   "metadata": {
    "papermill": {
     "duration": 0.004906,
     "end_time": "2023-12-20T06:31:21.976945",
     "exception": false,
     "start_time": "2023-12-20T06:31:21.972039",
     "status": "completed"
    },
    "tags": []
   },
   "source": [
    "# Get our environment set up\n",
    "\n",
    "The first thing we'll need to do is load in the libraries and dataset we'll be using.  We use the same dataset from the tutorial."
   ]
  },
  {
   "cell_type": "code",
   "execution_count": 2,
   "id": "05ed88ac",
   "metadata": {
    "execution": {
     "iopub.execute_input": "2023-12-20T06:31:21.988664Z",
     "iopub.status.busy": "2023-12-20T06:31:21.987771Z",
     "iopub.status.idle": "2023-12-20T06:31:22.001000Z",
     "shell.execute_reply": "2023-12-20T06:31:21.999961Z"
    },
    "papermill": {
     "duration": 0.021467,
     "end_time": "2023-12-20T06:31:22.003312",
     "exception": false,
     "start_time": "2023-12-20T06:31:21.981845",
     "status": "completed"
    },
    "tags": []
   },
   "outputs": [],
   "source": [
    "# modules we'll use\n",
    "import pandas as pd\n",
    "import numpy as np\n",
    "\n",
    "# helpful modules\n",
    "import fuzzywuzzy\n",
    "from fuzzywuzzy import process\n",
    "import charset_normalizer\n",
    "\n",
    "# read in all our data\n",
    "professors = pd.read_csv(\"../input/pakistan-intellectual-capital/pakistan_intellectual_capital.csv\")\n",
    "\n",
    "# set seed for reproducibility\n",
    "np.random.seed(0)"
   ]
  },
  {
   "cell_type": "markdown",
   "id": "89f9aff7",
   "metadata": {
    "papermill": {
     "duration": 0.004516,
     "end_time": "2023-12-20T06:31:22.012574",
     "exception": false,
     "start_time": "2023-12-20T06:31:22.008058",
     "status": "completed"
    },
    "tags": []
   },
   "source": [
    "Next, we'll redo all of the work that we did in the tutorial."
   ]
  },
  {
   "cell_type": "code",
   "execution_count": 3,
   "id": "84b78970",
   "metadata": {
    "execution": {
     "iopub.execute_input": "2023-12-20T06:31:22.023293Z",
     "iopub.status.busy": "2023-12-20T06:31:22.022923Z",
     "iopub.status.idle": "2023-12-20T06:31:22.036641Z",
     "shell.execute_reply": "2023-12-20T06:31:22.035273Z"
    },
    "jupyter": {
     "source_hidden": true
    },
    "papermill": {
     "duration": 0.021198,
     "end_time": "2023-12-20T06:31:22.038502",
     "exception": false,
     "start_time": "2023-12-20T06:31:22.017304",
     "status": "completed"
    },
    "tags": []
   },
   "outputs": [
    {
     "name": "stdout",
     "output_type": "stream",
     "text": [
      "All done!\n"
     ]
    }
   ],
   "source": [
    "# convert to lower case\n",
    "professors['Country'] = professors['Country'].str.lower()\n",
    "# remove trailing white spaces\n",
    "professors['Country'] = professors['Country'].str.strip()\n",
    "\n",
    "# get the top 10 closest matches to \"south korea\"\n",
    "countries = professors['Country'].unique()\n",
    "matches = fuzzywuzzy.process.extract(\"south korea\", countries, limit=10, scorer=fuzzywuzzy.fuzz.token_sort_ratio)\n",
    "\n",
    "def replace_matches_in_column(df, column, string_to_match, min_ratio = 47):\n",
    "    # get a list of unique strings\n",
    "    strings = df[column].unique()\n",
    "    \n",
    "    # get the top 10 closest matches to our input string\n",
    "    matches = fuzzywuzzy.process.extract(string_to_match, strings, \n",
    "                                         limit=10, scorer=fuzzywuzzy.fuzz.token_sort_ratio)\n",
    "\n",
    "    # only get matches with a ratio > 90\n",
    "    close_matches = [matches[0] for matches in matches if matches[1] >= min_ratio]\n",
    "\n",
    "    # get the rows of all the close matches in our dataframe\n",
    "    rows_with_matches = df[column].isin(close_matches)\n",
    "\n",
    "    # replace all rows with close matches with the input matches \n",
    "    df.loc[rows_with_matches, column] = string_to_match\n",
    "    \n",
    "    # let us know the function's done\n",
    "    print(\"All done!\")\n",
    "    \n",
    "replace_matches_in_column(df=professors, column='Country', string_to_match=\"south korea\")\n",
    "countries = professors['Country'].unique()"
   ]
  },
  {
   "cell_type": "markdown",
   "id": "cb0bb512",
   "metadata": {
    "papermill": {
     "duration": 0.003981,
     "end_time": "2023-12-20T06:31:22.047017",
     "exception": false,
     "start_time": "2023-12-20T06:31:22.043036",
     "status": "completed"
    },
    "tags": []
   },
   "source": [
    "# 1) Examine another column\n",
    "\n",
    "Write code below to take a look at all the unique values in the \"Graduated from\" column."
   ]
  },
  {
   "cell_type": "code",
   "execution_count": 4,
   "id": "3a3f365c",
   "metadata": {
    "execution": {
     "iopub.execute_input": "2023-12-20T06:31:22.057648Z",
     "iopub.status.busy": "2023-12-20T06:31:22.056938Z",
     "iopub.status.idle": "2023-12-20T06:31:22.065115Z",
     "shell.execute_reply": "2023-12-20T06:31:22.064447Z"
    },
    "papermill": {
     "duration": 0.015626,
     "end_time": "2023-12-20T06:31:22.066792",
     "exception": false,
     "start_time": "2023-12-20T06:31:22.051166",
     "status": "completed"
    },
    "tags": []
   },
   "outputs": [
    {
     "data": {
      "text/plain": [
       "0                           Asian Institute of Technology\n",
       "1                           Asian Institute of Technology\n",
       "2                           Asian Institute of Technology\n",
       "3                           Asian Institute of Technology\n",
       "4       Balochistan University of Information Technolo...\n",
       "                              ...                        \n",
       "1137                                                  JNU\n",
       "1138                                             Grenoble\n",
       "1139                          Florida Atlantic University\n",
       "1140    Ghulam Ishaq Khan Institute of Science and Tec...\n",
       "1141                            Seoul National University\n",
       "Name: Graduated from, Length: 1142, dtype: object"
      ]
     },
     "execution_count": 4,
     "metadata": {},
     "output_type": "execute_result"
    }
   ],
   "source": [
    "graduated_from = professors['Graduated from']\n",
    "graduated_from # TODO: Your code here"
   ]
  },
  {
   "cell_type": "markdown",
   "id": "67a783b0",
   "metadata": {
    "papermill": {
     "duration": 0.004027,
     "end_time": "2023-12-20T06:31:22.075155",
     "exception": false,
     "start_time": "2023-12-20T06:31:22.071128",
     "status": "completed"
    },
    "tags": []
   },
   "source": [
    "Do you notice any inconsistencies in the data?  Can any of the inconsistencies in the data be fixed by removing white spaces at the beginning and end of cells?\n",
    "\n",
    "Once you have answered these questions, run the code cell below to get credit for your work."
   ]
  },
  {
   "cell_type": "code",
   "execution_count": 5,
   "id": "ffc726b9",
   "metadata": {
    "execution": {
     "iopub.execute_input": "2023-12-20T06:31:22.085436Z",
     "iopub.status.busy": "2023-12-20T06:31:22.084747Z",
     "iopub.status.idle": "2023-12-20T06:31:22.093495Z",
     "shell.execute_reply": "2023-12-20T06:31:22.091982Z"
    },
    "papermill": {
     "duration": 0.016464,
     "end_time": "2023-12-20T06:31:22.095874",
     "exception": false,
     "start_time": "2023-12-20T06:31:22.079410",
     "status": "completed"
    },
    "tags": []
   },
   "outputs": [
    {
     "data": {
      "application/javascript": [
       "parent.postMessage({\"jupyterEvent\": \"custom.exercise_interaction\", \"data\": {\"outcomeType\": 1, \"valueTowardsCompletion\": 0.3333333333333333, \"interactionType\": 1, \"questionType\": 4, \"questionId\": \"1_ExamineProvince\", \"learnToolsVersion\": \"0.3.4\", \"failureMessage\": \"\", \"exceptionClass\": \"\", \"trace\": \"\"}}, \"*\")"
      ],
      "text/plain": [
       "<IPython.core.display.Javascript object>"
      ]
     },
     "metadata": {},
     "output_type": "display_data"
    },
    {
     "data": {
      "text/markdown": [
       "<span style=\"color:#33cc33\">Correct:</span> \n",
       "\n",
       "There are inconsistencies that can be fixed by removing white spaces at the beginning and end of cells.  For instance, \"University of Central Florida\" and \" University of Central Florida\" both appear in the column."
      ],
      "text/plain": [
       "Correct: \n",
       "\n",
       "There are inconsistencies that can be fixed by removing white spaces at the beginning and end of cells.  For instance, \"University of Central Florida\" and \" University of Central Florida\" both appear in the column."
      ]
     },
     "metadata": {},
     "output_type": "display_data"
    }
   ],
   "source": [
    "# Check your answer (Run this code cell to receive credit!)\n",
    "q1.check()"
   ]
  },
  {
   "cell_type": "code",
   "execution_count": 6,
   "id": "42554a25",
   "metadata": {
    "execution": {
     "iopub.execute_input": "2023-12-20T06:31:22.108019Z",
     "iopub.status.busy": "2023-12-20T06:31:22.107110Z",
     "iopub.status.idle": "2023-12-20T06:31:22.111860Z",
     "shell.execute_reply": "2023-12-20T06:31:22.110689Z"
    },
    "papermill": {
     "duration": 0.012825,
     "end_time": "2023-12-20T06:31:22.113905",
     "exception": false,
     "start_time": "2023-12-20T06:31:22.101080",
     "status": "completed"
    },
    "tags": []
   },
   "outputs": [],
   "source": [
    "# Line below will give you a hint\n",
    "#q1.hint()"
   ]
  },
  {
   "cell_type": "markdown",
   "id": "15c63e1f",
   "metadata": {
    "papermill": {
     "duration": 0.004329,
     "end_time": "2023-12-20T06:31:22.123231",
     "exception": false,
     "start_time": "2023-12-20T06:31:22.118902",
     "status": "completed"
    },
    "tags": []
   },
   "source": [
    "# 2) Do some text pre-processing\n",
    "\n",
    "Convert every entry in the \"Graduated from\" column in the `professors` DataFrame to remove white spaces at the beginning and end of cells."
   ]
  },
  {
   "cell_type": "code",
   "execution_count": 7,
   "id": "3363cec8",
   "metadata": {
    "execution": {
     "iopub.execute_input": "2023-12-20T06:31:22.133631Z",
     "iopub.status.busy": "2023-12-20T06:31:22.133338Z",
     "iopub.status.idle": "2023-12-20T06:31:22.144566Z",
     "shell.execute_reply": "2023-12-20T06:31:22.143634Z"
    },
    "papermill": {
     "duration": 0.019242,
     "end_time": "2023-12-20T06:31:22.146926",
     "exception": false,
     "start_time": "2023-12-20T06:31:22.127684",
     "status": "completed"
    },
    "tags": []
   },
   "outputs": [
    {
     "data": {
      "application/javascript": [
       "parent.postMessage({\"jupyterEvent\": \"custom.exercise_interaction\", \"data\": {\"outcomeType\": 1, \"valueTowardsCompletion\": 0.3333333333333333, \"interactionType\": 1, \"questionType\": 1, \"questionId\": \"2_TextProcessing\", \"learnToolsVersion\": \"0.3.4\", \"failureMessage\": \"\", \"exceptionClass\": \"\", \"trace\": \"\"}}, \"*\")"
      ],
      "text/plain": [
       "<IPython.core.display.Javascript object>"
      ]
     },
     "metadata": {},
     "output_type": "display_data"
    },
    {
     "data": {
      "text/markdown": [
       "<span style=\"color:#33cc33\">Correct</span>"
      ],
      "text/plain": [
       "Correct"
      ]
     },
     "metadata": {},
     "output_type": "display_data"
    }
   ],
   "source": [
    "# TODO: Your code here\n",
    "professors['Graduated from'] = professors['Graduated from'].str.strip()\n",
    "\n",
    "# Check your answer\n",
    "q2.check()"
   ]
  },
  {
   "cell_type": "code",
   "execution_count": 8,
   "id": "ab8c6467",
   "metadata": {
    "execution": {
     "iopub.execute_input": "2023-12-20T06:31:22.159382Z",
     "iopub.status.busy": "2023-12-20T06:31:22.158988Z",
     "iopub.status.idle": "2023-12-20T06:31:22.163635Z",
     "shell.execute_reply": "2023-12-20T06:31:22.162658Z"
    },
    "papermill": {
     "duration": 0.013287,
     "end_time": "2023-12-20T06:31:22.165720",
     "exception": false,
     "start_time": "2023-12-20T06:31:22.152433",
     "status": "completed"
    },
    "tags": []
   },
   "outputs": [],
   "source": [
    "# Lines below will give you a hint or solution code\n",
    "#q2.hint()\n",
    "#q2.solution()"
   ]
  },
  {
   "cell_type": "markdown",
   "id": "b8b656a5",
   "metadata": {
    "papermill": {
     "duration": 0.00463,
     "end_time": "2023-12-20T06:31:22.175492",
     "exception": false,
     "start_time": "2023-12-20T06:31:22.170862",
     "status": "completed"
    },
    "tags": []
   },
   "source": [
    "# 3) Continue working with countries\n",
    "\n",
    "In the tutorial, we focused on cleaning up inconsistencies in the \"Country\" column.  Run the code cell below to view the list of unique values that we ended with."
   ]
  },
  {
   "cell_type": "code",
   "execution_count": 9,
   "id": "9021b969",
   "metadata": {
    "execution": {
     "iopub.execute_input": "2023-12-20T06:31:22.187951Z",
     "iopub.status.busy": "2023-12-20T06:31:22.187618Z",
     "iopub.status.idle": "2023-12-20T06:31:22.195228Z",
     "shell.execute_reply": "2023-12-20T06:31:22.194104Z"
    },
    "papermill": {
     "duration": 0.015467,
     "end_time": "2023-12-20T06:31:22.197001",
     "exception": false,
     "start_time": "2023-12-20T06:31:22.181534",
     "status": "completed"
    },
    "tags": []
   },
   "outputs": [
    {
     "data": {
      "text/plain": [
       "array(['australia', 'austria', 'canada', 'china', 'finland', 'france',\n",
       "       'germany', 'greece', 'hongkong', 'ireland', 'italy', 'japan',\n",
       "       'macau', 'malaysia', 'mauritius', 'netherland', 'new zealand',\n",
       "       'norway', 'pakistan', 'portugal', 'russian federation',\n",
       "       'saudi arabia', 'scotland', 'singapore', 'south korea', 'spain',\n",
       "       'sweden', 'thailand', 'turkey', 'uk', 'urbana', 'usa', 'usofa'],\n",
       "      dtype=object)"
      ]
     },
     "execution_count": 9,
     "metadata": {},
     "output_type": "execute_result"
    }
   ],
   "source": [
    "# get all the unique values in the 'City' column\n",
    "countries = professors['Country'].unique()\n",
    "\n",
    "# sort them alphabetically and then take a closer look\n",
    "countries.sort()\n",
    "countries"
   ]
  },
  {
   "cell_type": "markdown",
   "id": "ba2539ee",
   "metadata": {
    "papermill": {
     "duration": 0.004897,
     "end_time": "2023-12-20T06:31:22.207968",
     "exception": false,
     "start_time": "2023-12-20T06:31:22.203071",
     "status": "completed"
    },
    "tags": []
   },
   "source": [
    "Take another look at the \"Country\" column and see if there's any more data cleaning we need to do.\n",
    "\n",
    "It looks like 'usa' and 'usofa' should be the same country.  Correct the \"Country\" column in the dataframe to replace 'usofa' with 'usa'.\n",
    "\n",
    "**Use the most recent version of the DataFrame (with the whitespaces at the beginning and end of cells removed) from question 2.**"
   ]
  },
  {
   "cell_type": "code",
   "execution_count": 10,
   "id": "7ed323fd",
   "metadata": {
    "execution": {
     "iopub.execute_input": "2023-12-20T06:31:22.220588Z",
     "iopub.status.busy": "2023-12-20T06:31:22.220278Z",
     "iopub.status.idle": "2023-12-20T06:31:22.231922Z",
     "shell.execute_reply": "2023-12-20T06:31:22.230986Z"
    },
    "papermill": {
     "duration": 0.021426,
     "end_time": "2023-12-20T06:31:22.234286",
     "exception": false,
     "start_time": "2023-12-20T06:31:22.212860",
     "status": "completed"
    },
    "tags": []
   },
   "outputs": [
    {
     "name": "stdout",
     "output_type": "stream",
     "text": [
      "All done!\n"
     ]
    },
    {
     "data": {
      "application/javascript": [
       "parent.postMessage({\"jupyterEvent\": \"custom.exercise_interaction\", \"data\": {\"outcomeType\": 1, \"valueTowardsCompletion\": 0.3333333333333333, \"interactionType\": 1, \"questionType\": 1, \"questionId\": \"3_WorkingWithCities\", \"learnToolsVersion\": \"0.3.4\", \"failureMessage\": \"\", \"exceptionClass\": \"\", \"trace\": \"\"}}, \"*\")"
      ],
      "text/plain": [
       "<IPython.core.display.Javascript object>"
      ]
     },
     "metadata": {},
     "output_type": "display_data"
    },
    {
     "data": {
      "text/markdown": [
       "<span style=\"color:#33cc33\">Correct</span>"
      ],
      "text/plain": [
       "Correct"
      ]
     },
     "metadata": {},
     "output_type": "display_data"
    }
   ],
   "source": [
    "# TODO: Your code here!\n",
    "matches = fuzzywuzzy.process.extract(\"usa\", countries, limit=10, scorer=fuzzywuzzy.fuzz.token_sort_ratio)\n",
    "replace_matches_in_column(df=professors, column='Country', string_to_match=\"usa\", min_ratio=70)\n",
    "\n",
    "# Check your answer\n",
    "q3.check()"
   ]
  },
  {
   "cell_type": "code",
   "execution_count": 11,
   "id": "3b86178b",
   "metadata": {
    "execution": {
     "iopub.execute_input": "2023-12-20T06:31:22.247258Z",
     "iopub.status.busy": "2023-12-20T06:31:22.246905Z",
     "iopub.status.idle": "2023-12-20T06:31:22.251013Z",
     "shell.execute_reply": "2023-12-20T06:31:22.250094Z"
    },
    "papermill": {
     "duration": 0.012908,
     "end_time": "2023-12-20T06:31:22.253030",
     "exception": false,
     "start_time": "2023-12-20T06:31:22.240122",
     "status": "completed"
    },
    "tags": []
   },
   "outputs": [],
   "source": [
    "# Lines below will give you a hint or solution code\n",
    "#q3.hint()\n",
    "#q3.solution()"
   ]
  },
  {
   "cell_type": "markdown",
   "id": "b2e7f9cc",
   "metadata": {
    "papermill": {
     "duration": 0.005188,
     "end_time": "2023-12-20T06:31:22.264018",
     "exception": false,
     "start_time": "2023-12-20T06:31:22.258830",
     "status": "completed"
    },
    "tags": []
   },
   "source": [
    "# Congratulations!\n",
    "\n",
    "Congratulations for completing the **Data Cleaning** course on Kaggle Learn!\n",
    "\n",
    "To practice your new skills, you're encouraged to download and investigate some of [Kaggle's Datasets](https://www.kaggle.com/datasets)."
   ]
  },
  {
   "cell_type": "markdown",
   "id": "5c098aad",
   "metadata": {
    "papermill": {
     "duration": 0.005152,
     "end_time": "2023-12-20T06:31:22.274681",
     "exception": false,
     "start_time": "2023-12-20T06:31:22.269529",
     "status": "completed"
    },
    "tags": []
   },
   "source": [
    "---\n",
    "\n",
    "\n",
    "\n",
    "\n",
    "*Have questions or comments? Visit the [course discussion forum](https://www.kaggle.com/learn/data-cleaning/discussion) to chat with other learners.*"
   ]
  }
 ],
 "metadata": {
  "kaggle": {
   "accelerator": "none",
   "dataSources": [
    {
     "datasetId": 819513,
     "sourceId": 1402182,
     "sourceType": "datasetVersion"
    }
   ],
   "isGpuEnabled": false,
   "isInternetEnabled": false,
   "language": "python",
   "sourceType": "notebook"
  },
  "kernelspec": {
   "display_name": "Python 3",
   "language": "python",
   "name": "python3"
  },
  "language_info": {
   "codemirror_mode": {
    "name": "ipython",
    "version": 3
   },
   "file_extension": ".py",
   "mimetype": "text/x-python",
   "name": "python",
   "nbconvert_exporter": "python",
   "pygments_lexer": "ipython3",
   "version": "3.10.12"
  },
  "papermill": {
   "default_parameters": {},
   "duration": 3.828645,
   "end_time": "2023-12-20T06:31:22.700450",
   "environment_variables": {},
   "exception": null,
   "input_path": "__notebook__.ipynb",
   "output_path": "__notebook__.ipynb",
   "parameters": {},
   "start_time": "2023-12-20T06:31:18.871805",
   "version": "2.4.0"
  }
 },
 "nbformat": 4,
 "nbformat_minor": 5
}
